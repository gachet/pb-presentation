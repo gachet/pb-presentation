{
 "cells": [
  {
   "cell_type": "markdown",
   "metadata": {
    "scrolled": true
   },
   "source": [
    "## Basic pywikibot operations"
   ]
  },
  {
   "cell_type": "code",
   "execution_count": 1,
   "metadata": {
    "collapsed": true
   },
   "outputs": [],
   "source": [
    "import pywikibot as pb\n",
    "from pywikibot import pagegenerators\n",
    "from datetime import datetime"
   ]
  },
  {
   "cell_type": "markdown",
   "metadata": {},
   "source": [
    "### Site"
   ]
  },
  {
   "cell_type": "code",
   "execution_count": 2,
   "metadata": {
    "collapsed": true
   },
   "outputs": [],
   "source": [
    "commons_site = pb.Site(\"commons\", \"commons\")"
   ]
  },
  {
   "cell_type": "markdown",
   "metadata": {},
   "source": [
    "### Page"
   ]
  },
  {
   "cell_type": "code",
   "execution_count": 3,
   "metadata": {},
   "outputs": [
    {
     "data": {
      "text/plain": [
       "True"
      ]
     },
     "execution_count": 3,
     "metadata": {},
     "output_type": "execute_result"
    }
   ],
   "source": [
    "page = pb.Page(commons_site, 'File:Motín de Aranjuez 2016 06.jpg')\n",
    "page.exists()"
   ]
  },
  {
   "cell_type": "code",
   "execution_count": 4,
   "metadata": {},
   "outputs": [
    {
     "data": {
      "text/plain": [
       "True"
      ]
     },
     "execution_count": 4,
     "metadata": {},
     "output_type": "execute_result"
    }
   ],
   "source": [
    "# See https://www.mediawiki.org/wiki/Manual:Namespace#Built-in_namespaces\n",
    "page = pb.Page(commons_site, 'Motín de Aranjuez 2016 06.jpg', ns=6)\n",
    "page.exists()"
   ]
  },
  {
   "cell_type": "code",
   "execution_count": 5,
   "metadata": {},
   "outputs": [
    {
     "data": {
      "text/plain": [
       "True"
      ]
     },
     "execution_count": 5,
     "metadata": {},
     "output_type": "execute_result"
    }
   ],
   "source": [
    "page = pb.Page(commons_site, 'File:Parlament Europeu.jpg')\n",
    "page.exists()"
   ]
  },
  {
   "cell_type": "code",
   "execution_count": 6,
   "metadata": {},
   "outputs": [
    {
     "name": "stdout",
     "output_type": "stream",
     "text": [
      "File:Carles Puigdemont al Parlament Europeu.jpg\n"
     ]
    }
   ],
   "source": [
    "if page.isRedirectPage():\n",
    "    page = pb.Page(commons_site, 'File:Parlament Europeu.jpg').getRedirectTarget()\n",
    "    print(page.title())"
   ]
  },
  {
   "cell_type": "code",
   "execution_count": 7,
   "metadata": {},
   "outputs": [
    {
     "data": {
      "text/plain": [
       "False"
      ]
     },
     "execution_count": 7,
     "metadata": {},
     "output_type": "execute_result"
    }
   ],
   "source": [
    "page = pb.Page(commons_site, 'Motín de Aranjuez 2016 06.jpg', ns=6)\n",
    "page.is_categorypage()"
   ]
  },
  {
   "cell_type": "code",
   "execution_count": 8,
   "metadata": {},
   "outputs": [
    {
     "data": {
      "text/plain": [
       "True"
      ]
     },
     "execution_count": 8,
     "metadata": {},
     "output_type": "execute_result"
    }
   ],
   "source": [
    "page.is_filepage()"
   ]
  },
  {
   "cell_type": "code",
   "execution_count": 9,
   "metadata": {},
   "outputs": [
    {
     "data": {
      "text/plain": [
       "'=={{int:filedesc}}==\\n{{Information\\n|description={{WLF|Q23199370}}\\n|date=2016-09-03 23:16:03\\n|source={{own}}\\n|author=[[User:Rodelar|Rodelar]]\\n|permission=\\n|other versions=\\n}}\\n\\n=={{int:license-header}}==\\n{{User:Rodelar/credit}}\\n{{cc-by-sa-4.0|Rubén Ojeda}}\\n\\n[[Category:Files by User:Rodelar]]\\n\\n{{Wiki Loves Folk 2016}}\\n\\n[[Category:Motín de Aranjuez]]\\n[[Category:Uploaded via Campaign:wlfolk]]\\n[[Category:Images from Wiki Loves Folk 2016 in Spain (qualified)]]\\n[[Category:All media supported by Wikimedia España in 2016]]\\n[[Category:Images from Wiki Loves Folk 2016 in Spain by Rodelar]]\\n[[Category:Images of festival with code Q23199370 from Wiki Loves Folk 2016 in Spain]]\\n[[Category:Images of festival with code Q23199370]]'"
      ]
     },
     "execution_count": 9,
     "metadata": {},
     "output_type": "execute_result"
    }
   ],
   "source": [
    "page.text"
   ]
  },
  {
   "cell_type": "code",
   "execution_count": 10,
   "metadata": {},
   "outputs": [
    {
     "data": {
      "text/plain": [
       "{'revid': 283499626, 'text': None, 'timestamp': Timestamp(2018, 1, 28, 14, 8, 23), 'user': 'Discasto', 'anon': False, 'comment': 'WLF 2016 in Spain: Classification', 'minor': True, 'rollbacktoken': None, '_parent_id': 279471402, '_content_model': 'wikitext', '_sha1': '5d82c9bbccea66e8aa47f5ddd6e2003de8fe6984'}"
      ]
     },
     "execution_count": 10,
     "metadata": {},
     "output_type": "execute_result"
    }
   ],
   "source": [
    "revisions = [revision for revision in page.revisions()]\n",
    "revisions[0]"
   ]
  },
  {
   "cell_type": "code",
   "execution_count": 11,
   "metadata": {},
   "outputs": [
    {
     "data": {
      "text/plain": [
       "{'revid': 225314754, 'text': '=={{int:filedesc}}==\\n{{Information\\n|description={{WLF|Q23199370}}\\n|date=2016-09-03 23:16:03\\n|source={{own}}\\n|author=[[User:Rodelar|Rodelar]]\\n|permission=\\n|other versions=\\n}}\\n\\n=={{int:license-header}}==\\n{{self|cc-by-sa-4.0}}\\n\\n{{Wiki Loves Folk}}\\n\\n[[Category:Motín de Aranjuez]]\\n[[Category:Uploaded via Campaign:wlfolk]]', 'timestamp': Timestamp(2016, 12, 6, 12, 34, 57), 'user': 'Rodelar', 'anon': False, 'comment': 'User created page with UploadWizard', 'minor': False, 'rollbacktoken': None, '_parent_id': 0, '_content_model': 'wikitext', '_sha1': '8f5569f109fdd4836dd3092576b440b668db088a'}"
      ]
     },
     "execution_count": 11,
     "metadata": {},
     "output_type": "execute_result"
    }
   ],
   "source": [
    "revisions = [revision for revision in page.revisions(reverse=True, content=True)]\n",
    "revisions[0]"
   ]
  },
  {
   "cell_type": "code",
   "execution_count": 12,
   "metadata": {},
   "outputs": [
    {
     "data": {
      "text/plain": [
       "Counter({'Discasto': 2, 'Poco a poco': 2, 'Rodelar': 4})"
      ]
     },
     "execution_count": 12,
     "metadata": {},
     "output_type": "execute_result"
    }
   ],
   "source": [
    "page.contributors()"
   ]
  },
  {
   "cell_type": "code",
   "execution_count": 13,
   "metadata": {},
   "outputs": [
    {
     "data": {
      "text/plain": [
       "'Rodelar'"
      ]
     },
     "execution_count": 13,
     "metadata": {},
     "output_type": "execute_result"
    }
   ],
   "source": [
    "page.oldest_revision['user']"
   ]
  },
  {
   "cell_type": "code",
   "execution_count": 14,
   "metadata": {},
   "outputs": [
    {
     "data": {
      "text/plain": [
       "'2016-12-06'"
      ]
     },
     "execution_count": 14,
     "metadata": {},
     "output_type": "execute_result"
    }
   ],
   "source": [
    "page.oldest_revision['timestamp'].strftime(\"%Y-%m-%d\")"
   ]
  },
  {
   "cell_type": "markdown",
   "metadata": {},
   "source": [
    "### FilePage"
   ]
  },
  {
   "cell_type": "code",
   "execution_count": 15,
   "metadata": {},
   "outputs": [
    {
     "data": {
      "text/plain": [
       "{'timestamp': Timestamp(2016, 12, 6, 12, 34, 57), 'user': 'Rodelar', 'size': 1295571, 'width': 3274, 'height': 2440, 'comment': 'User created page with UploadWizard', 'url': 'https://upload.wikimedia.org/wikipedia/commons/c/c7/Mot%C3%ADn_de_Aranjuez_2016_06.jpg', 'descriptionurl': 'https://commons.wikimedia.org/wiki/File:Mot%C3%ADn_de_Aranjuez_2016_06.jpg', 'descriptionshorturl': 'https://commons.wikimedia.org/w/index.php?curid=53825039', 'sha1': '23b18d7c690e626b991b4f0eea973a1ff1b2df0d', 'metadata': [{'name': 'DateTime', 'value': '2016:09:03 23:16:03'}, {'name': 'Model', 'value': 'Nexus 5'}, {'name': 'ImageWidth', 'value': 3274}, {'name': 'ResolutionUnit', 'value': 2}, {'name': 'YCbCrPositioning', 'value': 1}, {'name': 'ImageLength', 'value': 2440}, {'name': 'YResolution', 'value': '72/1'}, {'name': 'Orientation', 'value': 1}, {'name': 'Software', 'value': 'HDR+ 1.0.118402515y'}, {'name': 'XResolution', 'value': '72/1'}, {'name': 'Make', 'value': 'LGE'}, {'name': 'ColorSpace', 'value': 1}, {'name': 'FNumber', 'value': '240/100'}, {'name': 'DateTimeDigitized', 'value': '2016:09:03 23:16:03'}, {'name': 'SubjectDistanceRange', 'value': 0}, {'name': 'FocalLength', 'value': '3970/1000'}, {'name': 'ApertureValue', 'value': '253/100'}, {'name': 'ExposureMode', 'value': 0}, {'name': 'CustomRendered', 'value': 1}, {'name': 'MaxApertureValue', 'value': '253/100'}, {'name': 'SceneCaptureType', 'value': 0}, {'name': 'SceneType', 'value': 1}, {'name': 'DigitalZoomRatio', 'value': '1/1'}, {'name': 'Saturation', 'value': 0}, {'name': 'ExposureProgram', 'value': 2}, {'name': 'Sharpness', 'value': 0}, {'name': 'ShutterSpeedValue', 'value': '332/100'}, {'name': 'MeteringMode', 'value': 2}, {'name': 'DateTimeOriginal', 'value': '2016:09:03 23:16:03'}, {'name': 'ComponentsConfiguration', 'value': '\\n#1\\n#2\\n#3\\n#0'}, {'name': 'SubjectDistance', 'value': '0/1'}, {'name': 'Flash', 'value': 16}, {'name': 'ExifVersion', 'value': '0210'}, {'name': 'Contrast', 'value': 0}, {'name': 'ISOSpeedRatings', 'value': 2195}, {'name': 'SensingMethod', 'value': 2}, {'name': 'FlashPixVersion', 'value': '0100'}, {'name': 'ExposureTime', 'value': '99998/1000000'}, {'name': 'GPSImgDirection', 'value': '277/1'}, {'name': 'GPSImgDirectionRef', 'value': 'M'}, {'name': 'MEDIAWIKI_EXIF_VERSION', 'value': 1}], 'mime': 'image/jpeg'}"
      ]
     },
     "execution_count": 15,
     "metadata": {},
     "output_type": "execute_result"
    }
   ],
   "source": [
    "file = pb.FilePage(commons_site, 'File:Motín de Aranjuez 2016 06.jpg')\n",
    "file.latest_file_info"
   ]
  },
  {
   "cell_type": "markdown",
   "metadata": {},
   "source": [
    "### Category"
   ]
  },
  {
   "cell_type": "code",
   "execution_count": 16,
   "metadata": {
    "collapsed": true
   },
   "outputs": [],
   "source": [
    "from pywikibot import pagegenerators"
   ]
  },
  {
   "cell_type": "code",
   "execution_count": 17,
   "metadata": {},
   "outputs": [
    {
     "name": "stdout",
     "output_type": "stream",
     "text": [
      "Category:All media supported by Wikimedia España in 2016\n",
      "Category:CC-BY-SA-4.0\n",
      "Category:Files by User:Rodelar\n",
      "Category:Folklore events in Spain with known IDs\n",
      "Category:Images from Wiki Loves Folk 2016 in Spain\n",
      "Category:Images from Wiki Loves Folk 2016 in Spain (qualified)\n",
      "Category:Images from Wiki Loves Folk 2016 in Spain by Rodelar\n",
      "Category:Images of festival with code Q23199370\n",
      "Category:Images of festival with code Q23199370 from Wiki Loves Folk 2016 in Spain\n",
      "Category:Motín de Aranjuez\n",
      "Category:Uploaded via Campaign:wlfolk\n"
     ]
    }
   ],
   "source": [
    "for category in page.categories() :\n",
    "    print (category.title())"
   ]
  },
  {
   "cell_type": "code",
   "execution_count": 18,
   "metadata": {},
   "outputs": [
    {
     "name": "stdout",
     "output_type": "stream",
     "text": [
      "Category:Motín de Aranjuez\n"
     ]
    }
   ],
   "source": [
    "for category in page.categories() :\n",
    "    if not category.isHiddenCategory() :\n",
    "        print (category.title())"
   ]
  },
  {
   "cell_type": "code",
   "execution_count": 19,
   "metadata": {},
   "outputs": [
    {
     "data": {
      "text/plain": [
       "{'files': 3386, 'hidden': '', 'pages': 0, 'size': 3386, 'subcats': 0}"
      ]
     },
     "execution_count": 19,
     "metadata": {},
     "output_type": "execute_result"
    }
   ],
   "source": [
    "category = pb.Category(commons_site, 'Category:Files by User:Rodelar')\n",
    "category.categoryinfo"
   ]
  },
  {
   "cell_type": "code",
   "execution_count": 20,
   "metadata": {
    "collapsed": true
   },
   "outputs": [],
   "source": [
    "rodelar_pages = pagegenerators.CategorizedPageGenerator(category)"
   ]
  },
  {
   "cell_type": "markdown",
   "metadata": {},
   "source": [
    "### User"
   ]
  },
  {
   "cell_type": "code",
   "execution_count": 21,
   "metadata": {
    "collapsed": true
   },
   "outputs": [],
   "source": [
    "rodelar = pb.User(commons_site, \"Rodelar\")"
   ]
  },
  {
   "cell_type": "code",
   "execution_count": 22,
   "metadata": {},
   "outputs": [
    {
     "data": {
      "text/plain": [
       "56542"
      ]
     },
     "execution_count": 22,
     "metadata": {},
     "output_type": "execute_result"
    }
   ],
   "source": [
    "rodelar.editCount()"
   ]
  },
  {
   "cell_type": "code",
   "execution_count": 23,
   "metadata": {},
   "outputs": [
    {
     "data": {
      "text/plain": [
       "'male'"
      ]
     },
     "execution_count": 23,
     "metadata": {},
     "output_type": "execute_result"
    }
   ],
   "source": [
    "rodelar.gender()"
   ]
  },
  {
   "cell_type": "code",
   "execution_count": 24,
   "metadata": {},
   "outputs": [
    {
     "data": {
      "text/plain": [
       "['autopatrolled', 'filemover', '*', 'user', 'autoconfirmed']"
      ]
     },
     "execution_count": 24,
     "metadata": {},
     "output_type": "execute_result"
    }
   ],
   "source": [
    "rodelar.groups()"
   ]
  },
  {
   "cell_type": "code",
   "execution_count": 25,
   "metadata": {},
   "outputs": [
    {
     "data": {
      "text/plain": [
       "'2008-12-03'"
      ]
     },
     "execution_count": 25,
     "metadata": {},
     "output_type": "execute_result"
    }
   ],
   "source": [
    "rodelar.registration().strftime(\"%Y-%m-%d\")"
   ]
  },
  {
   "cell_type": "code",
   "execution_count": 26,
   "metadata": {},
   "outputs": [
    {
     "data": {
      "text/plain": [
       "True"
      ]
     },
     "execution_count": 26,
     "metadata": {},
     "output_type": "execute_result"
    }
   ],
   "source": [
    "discasto = pb.User(pb.Site('es', 'wikipedia'), 'Discasto')\n",
    "discasto.isBlocked()"
   ]
  },
  {
   "cell_type": "code",
   "execution_count": 27,
   "metadata": {
    "collapsed": true
   },
   "outputs": [],
   "source": [
    "ecemaml = pb.User(commons_site, 'Ecemaml')\n",
    "ecemaml.registration()"
   ]
  },
  {
   "cell_type": "markdown",
   "metadata": {},
   "source": [
    "## Pandas"
   ]
  },
  {
   "cell_type": "code",
   "execution_count": 28,
   "metadata": {
    "collapsed": true
   },
   "outputs": [],
   "source": [
    "import pandas as pd\n",
    "import numpy as np"
   ]
  },
  {
   "cell_type": "code",
   "execution_count": 29,
   "metadata": {
    "collapsed": true
   },
   "outputs": [],
   "source": [
    "gen_aranjuez = pagegenerators. \\\n",
    "                     CategorizedPageGenerator(pb.Category(commons_site, \"Aranjuez\"), recurse=True)\n",
    "images_aranjuez = list(\n",
    "    set([page.title(withNamespace=True) for page in gen_aranjuez if page.is_filepage()])\n",
    ")"
   ]
  },
  {
   "cell_type": "code",
   "execution_count": 30,
   "metadata": {
    "collapsed": true
   },
   "outputs": [],
   "source": [
    "images_df = pd.DataFrame(columns=['image_title', 'uploader', 'uploader_registration', \n",
    "                                  'timestamp', 'url', 'size', 'height', 'width'])\n",
    "for image in images_aranjuez :\n",
    "    image_row = {'image_title': None, \n",
    "                 'uploader': None,\n",
    "                 'uploader_registration': None,\n",
    "                 'timestamp': None,\n",
    "                 'url': None,\n",
    "                 'size': 0,\n",
    "                 'height': 0,\n",
    "                 'width': 0}\n",
    "    page = pb.FilePage(commons_site, image)\n",
    "    image_row[\"image_title\"] = image\n",
    "\n",
    "    fileinfo = page.latest_file_info\n",
    "    image_row[\"size\"] = fileinfo['size']\n",
    "    image_row[\"height\"] = fileinfo['height']\n",
    "    image_row[\"width\"] = fileinfo['width']\n",
    "    image_row[\"url\"] = fileinfo['url']\n",
    "\n",
    "    creation = page.oldest_revision\n",
    "    image_row[\"uploader\"] = creation[\"user\"]\n",
    "    image_row[\"timestamp\"] = creation[\"timestamp\"]\n",
    "    try:\n",
    "        # Too old users do not have a user registration time\n",
    "        image_row[\"uploader_registration\"] = pb.User(commons_site, title=creation[\"user\"]) \\\n",
    "                                               .registration()\n",
    "    except :\n",
    "        image_row[\"uploader_registration\"] = datetime(2006, 1, 1)\n",
    "    \n",
    "    images_df = images_df.append(image_row, ignore_index=True)"
   ]
  },
  {
   "cell_type": "code",
   "execution_count": 31,
   "metadata": {
    "collapsed": true
   },
   "outputs": [],
   "source": [
    "images_df.to_csv(\"images_aranjuez.csv\", header=True, sep=\"|\", index=False)"
   ]
  },
  {
   "cell_type": "code",
   "execution_count": 32,
   "metadata": {
    "collapsed": true
   },
   "outputs": [],
   "source": [
    "csv_df = pd.read_csv(\"images_aranjuez.csv\", sep=\"|\", parse_dates=True)"
   ]
  },
  {
   "cell_type": "code",
   "execution_count": 33,
   "metadata": {},
   "outputs": [
    {
     "data": {
      "text/plain": [
       "1875"
      ]
     },
     "execution_count": 33,
     "metadata": {},
     "output_type": "execute_result"
    }
   ],
   "source": [
    "len(images_df)"
   ]
  },
  {
   "cell_type": "code",
   "execution_count": 34,
   "metadata": {},
   "outputs": [
    {
     "data": {
      "text/html": [
       "<div>\n",
       "<style scoped>\n",
       "    .dataframe tbody tr th:only-of-type {\n",
       "        vertical-align: middle;\n",
       "    }\n",
       "\n",
       "    .dataframe tbody tr th {\n",
       "        vertical-align: top;\n",
       "    }\n",
       "\n",
       "    .dataframe thead th {\n",
       "        text-align: right;\n",
       "    }\n",
       "</style>\n",
       "<table border=\"1\" class=\"dataframe\">\n",
       "  <thead>\n",
       "    <tr style=\"text-align: right;\">\n",
       "      <th></th>\n",
       "      <th>image_title</th>\n",
       "      <th>uploader</th>\n",
       "      <th>uploader_registration</th>\n",
       "      <th>timestamp</th>\n",
       "      <th>url</th>\n",
       "      <th>size</th>\n",
       "      <th>height</th>\n",
       "      <th>width</th>\n",
       "    </tr>\n",
       "  </thead>\n",
       "  <tbody>\n",
       "    <tr>\n",
       "      <th>count</th>\n",
       "      <td>1875</td>\n",
       "      <td>1875</td>\n",
       "      <td>1506</td>\n",
       "      <td>1875</td>\n",
       "      <td>1875</td>\n",
       "      <td>1875.0</td>\n",
       "      <td>1875.0</td>\n",
       "      <td>1875.0</td>\n",
       "    </tr>\n",
       "    <tr>\n",
       "      <th>unique</th>\n",
       "      <td>1875</td>\n",
       "      <td>134</td>\n",
       "      <td>114</td>\n",
       "      <td>1528</td>\n",
       "      <td>1875</td>\n",
       "      <td>1833.0</td>\n",
       "      <td>482.0</td>\n",
       "      <td>426.0</td>\n",
       "    </tr>\n",
       "    <tr>\n",
       "      <th>top</th>\n",
       "      <td>File:Jardín del Príncipe - panoramio (27).jpg</td>\n",
       "      <td>Assdl</td>\n",
       "      <td>2014-09-28 13:24:04</td>\n",
       "      <td>2016-04-04 10:39:20</td>\n",
       "      <td>https://upload.wikimedia.org/wikipedia/commons...</td>\n",
       "      <td>3502096.0</td>\n",
       "      <td>1704.0</td>\n",
       "      <td>2272.0</td>\n",
       "    </tr>\n",
       "    <tr>\n",
       "      <th>freq</th>\n",
       "      <td>1</td>\n",
       "      <td>248</td>\n",
       "      <td>244</td>\n",
       "      <td>3</td>\n",
       "      <td>1</td>\n",
       "      <td>29.0</td>\n",
       "      <td>229.0</td>\n",
       "      <td>230.0</td>\n",
       "    </tr>\n",
       "    <tr>\n",
       "      <th>first</th>\n",
       "      <td>NaN</td>\n",
       "      <td>NaN</td>\n",
       "      <td>NaN</td>\n",
       "      <td>2005-03-11 23:52:29</td>\n",
       "      <td>NaN</td>\n",
       "      <td>NaN</td>\n",
       "      <td>NaN</td>\n",
       "      <td>NaN</td>\n",
       "    </tr>\n",
       "    <tr>\n",
       "      <th>last</th>\n",
       "      <td>NaN</td>\n",
       "      <td>NaN</td>\n",
       "      <td>NaN</td>\n",
       "      <td>2018-02-16 09:31:26</td>\n",
       "      <td>NaN</td>\n",
       "      <td>NaN</td>\n",
       "      <td>NaN</td>\n",
       "      <td>NaN</td>\n",
       "    </tr>\n",
       "  </tbody>\n",
       "</table>\n",
       "</div>"
      ],
      "text/plain": [
       "                                          image_title uploader  \\\n",
       "count                                            1875     1875   \n",
       "unique                                           1875      134   \n",
       "top     File:Jardín del Príncipe - panoramio (27).jpg    Assdl   \n",
       "freq                                                1      248   \n",
       "first                                             NaN      NaN   \n",
       "last                                              NaN      NaN   \n",
       "\n",
       "       uploader_registration            timestamp  \\\n",
       "count                   1506                 1875   \n",
       "unique                   114                 1528   \n",
       "top      2014-09-28 13:24:04  2016-04-04 10:39:20   \n",
       "freq                     244                    3   \n",
       "first                    NaN  2005-03-11 23:52:29   \n",
       "last                     NaN  2018-02-16 09:31:26   \n",
       "\n",
       "                                                      url       size  height  \\\n",
       "count                                                1875     1875.0  1875.0   \n",
       "unique                                               1875     1833.0   482.0   \n",
       "top     https://upload.wikimedia.org/wikipedia/commons...  3502096.0  1704.0   \n",
       "freq                                                    1       29.0   229.0   \n",
       "first                                                 NaN        NaN     NaN   \n",
       "last                                                  NaN        NaN     NaN   \n",
       "\n",
       "         width  \n",
       "count   1875.0  \n",
       "unique   426.0  \n",
       "top     2272.0  \n",
       "freq     230.0  \n",
       "first      NaN  \n",
       "last       NaN  "
      ]
     },
     "execution_count": 34,
     "metadata": {},
     "output_type": "execute_result"
    }
   ],
   "source": [
    "images_df.describe(include=\"all\")"
   ]
  },
  {
   "cell_type": "code",
   "execution_count": 35,
   "metadata": {},
   "outputs": [
    {
     "data": {
      "text/plain": [
       "Assdl                      248\n",
       "Panoramio upload bot       244\n",
       "Zarateman                  203\n",
       "Piragüismo Aranjuez        179\n",
       "MiguelHermoso              164\n",
       "PMRMaeyaert                144\n",
       "Benjamín Núñez González    129\n",
       "Rodelar                     79\n",
       "Discasto                    56\n",
       "Superzerocool               34\n",
       "Strakhov                    34\n",
       "AdriPozuelo                 22\n",
       "Name: uploader, dtype: int64"
      ]
     },
     "execution_count": 35,
     "metadata": {},
     "output_type": "execute_result"
    }
   ],
   "source": [
    "csv_df['uploader'].value_counts()[:12]"
   ]
  },
  {
   "cell_type": "code",
   "execution_count": 36,
   "metadata": {},
   "outputs": [
    {
     "data": {
      "text/plain": [
       "array(['Barcex', 'Assdl', 'Emijrp', 'Kordas', 'Zaqarbal', 'Superzerocool',\n",
       "       'Sabbut', 'Sir Gawain', 'Tony Rotondas', 'Deadstar', 'ManuelGR',\n",
       "       'Alvy', 'Benedicto16', 'Hatto', 'Luis Fernández García',\n",
       "       'File Upload Bot (Eloquence)', 'Ecemaml', 'Alberto Salguero',\n",
       "       'Yearofthedragon', 'Xauxa'], dtype=object)"
      ]
     },
     "execution_count": 36,
     "metadata": {},
     "output_type": "execute_result"
    }
   ],
   "source": [
    "csv_df[csv_df['uploader_registration'].isin([np.nan])]['uploader'].unique()"
   ]
  },
  {
   "cell_type": "code",
   "execution_count": 37,
   "metadata": {},
   "outputs": [
    {
     "data": {
      "text/plain": [
       "'2005-03-11 23:52:29'"
      ]
     },
     "execution_count": 37,
     "metadata": {},
     "output_type": "execute_result"
    }
   ],
   "source": [
    "csv_df['timestamp'].min()"
   ]
  },
  {
   "cell_type": "code",
   "execution_count": 38,
   "metadata": {},
   "outputs": [
    {
     "data": {
      "text/plain": [
       "'https://upload.wikimedia.org/wikipedia/commons/c/c3/Aranjuez_PalacioReal_night1.jpg'"
      ]
     },
     "execution_count": 38,
     "metadata": {},
     "output_type": "execute_result"
    }
   ],
   "source": [
    "csv_df[csv_df['timestamp'] == csv_df['timestamp'].min()]['url'].values[0]"
   ]
  },
  {
   "cell_type": "code",
   "execution_count": 39,
   "metadata": {},
   "outputs": [
    {
     "data": {
      "text/html": [
       "<img src=\"https://upload.wikimedia.org/wikipedia/commons/c/c3/Aranjuez_PalacioReal_night1.jpg\" width=\"600\"/>"
      ],
      "text/plain": [
       "<IPython.core.display.Image object>"
      ]
     },
     "execution_count": 39,
     "metadata": {},
     "output_type": "execute_result"
    }
   ],
   "source": [
    "from IPython.display import Image\n",
    "Image(url=csv_df[csv_df['timestamp'] == csv_df['timestamp'].min()]['url'].values[0], width=600)"
   ]
  },
  {
   "cell_type": "markdown",
   "metadata": {},
   "source": [
    "## Mako"
   ]
  },
  {
   "cell_type": "code",
   "execution_count": 40,
   "metadata": {
    "collapsed": true
   },
   "outputs": [],
   "source": [
    "from mako.template import Template"
   ]
  },
  {
   "cell_type": "code",
   "execution_count": 41,
   "metadata": {},
   "outputs": [
    {
     "name": "stdout",
     "output_type": "stream",
     "text": [
      "{{hiddencat}}\n",
      "\n",
      "[[Category:Images from Wiki Loves Earth 2017 in Spain by site| Canary Islands]]\n"
     ]
    }
   ],
   "source": [
    "autcom_cat_template = \"\"\"{{hiddencat}}\n",
    "\n",
    "[[Category:Images from ${tag} ${year} in Spain by site| ${autcom_name}]]\"\"\"\n",
    "\n",
    "vars = {\n",
    "    \"autcom_name\": \"Canary Islands\",\n",
    "    \"tag\": \"Wiki Loves Earth\",\n",
    "    \"year\": 2017}\n",
    "\n",
    "t = Template(autcom_cat_template)\n",
    "cat_text = t.render(**vars)\n",
    "print(cat_text)"
   ]
  },
  {
   "cell_type": "markdown",
   "metadata": {},
   "source": [
    "## Matplotlib"
   ]
  },
  {
   "cell_type": "code",
   "execution_count": 42,
   "metadata": {
    "collapsed": true
   },
   "outputs": [],
   "source": [
    "import matplotlib.pyplot as plt\n",
    "import seaborn as sns\n",
    "sns.set(color_codes=True)\n",
    "\n",
    "%matplotlib inline"
   ]
  },
  {
   "cell_type": "code",
   "execution_count": 43,
   "metadata": {},
   "outputs": [
    {
     "data": {
      "image/png": "[encoded data removed]",
      "text/plain": [
       "<matplotlib.figure.Figure at 0x7f8690ba6588>"
      ]
     },
     "metadata": {},
     "output_type": "display_data"
    }
   ],
   "source": [
    "figsize=[10., 6.]\n",
    "fig, ax = plt.subplots(figsize=figsize)\n",
    "\n",
    "frame = images_df.copy(deep=True)\n",
    "\n",
    "(frame.set_index('timestamp'). # use date-time as index\n",
    " assign(year=lambda x: x.index.year). # add new column with year\n",
    " groupby('year'). # group by that column\n",
    " count()['image_title']. # find a sum of the only column 'y'\n",
    " plot.bar(ax=ax));"
   ]
  },
  {
   "cell_type": "markdown",
   "metadata": {},
   "source": [
    "### geojson"
   ]
  },
  {
   "cell_type": "code",
   "execution_count": 44,
   "metadata": {},
   "outputs": [
    {
     "data": {
      "text/plain": [
       "Coordinate(lat=37.717222, lon=-119.661944, entity=http://www.wikidata.org/entity/Q2)"
      ]
     },
     "execution_count": 44,
     "metadata": {},
     "output_type": "execute_result"
    }
   ],
   "source": [
    "file = pb.FilePage(commons_site, 'File:Valley View Yosemite August 2013 002.jpg')\n",
    "coordinates = file.coordinates(primary_only=True)\n",
    "coordinates"
   ]
  },
  {
   "cell_type": "code",
   "execution_count": 45,
   "metadata": {},
   "outputs": [
    {
     "name": "stdout",
     "output_type": "stream",
     "text": [
      "{\n",
      "  \"type\": \"FeatureCollection\",\n",
      "  \"features\": [\n",
      "    {\n",
      "      \"type\": \"Feature\",\n",
      "      \"geometry\": {\n",
      "        \"type\": \"Point\",\n",
      "        \"coordinates\": [\n",
      "          37.717222,\n",
      "          -119.661944\n",
      "        ]\n",
      "      },\n",
      "      \"properties\": {\n",
      "        \"title\": \"Valley View in Yosemite National Park\",\n",
      "        \"marker-size\": \"small\",\n",
      "        \"marker-symbol\": \"circle\",\n",
      "        \"marker-color\": \"gree\"\n",
      "      }\n",
      "    }\n",
      "  ]\n",
      "}\n"
     ]
    }
   ],
   "source": [
    "from geojson import Feature, Point, FeatureCollection\n",
    "import geojson\n",
    "\n",
    "properties = {\"title\": \"Valley View in Yosemite National Park\",\n",
    "              \"marker-size\": \"small\",\n",
    "              \"marker-symbol\": \"circle\",\n",
    "              \"marker-color\": \"gree\"}\n",
    "\n",
    "feature = Feature(geometry=Point((coordinates.lat, coordinates.lon)),\n",
    "                 properties=properties)\n",
    "feature_collection = FeatureCollection([feature])\n",
    "dump = geojson.dumps(feature_collection, ensure_ascii=False, indent=2)\n",
    "print(dump)"
   ]
  },
  {
   "cell_type": "markdown",
   "metadata": {},
   "source": [
    "## Pillow"
   ]
  },
  {
   "cell_type": "code",
   "execution_count": 46,
   "metadata": {
    "collapsed": true
   },
   "outputs": [],
   "source": [
    "import requests\n",
    "from PIL import Image\n",
    "from io import BytesIO\n",
    "from pywikibot.specialbots import UploadRobot\n",
    "import os"
   ]
  },
  {
   "cell_type": "code",
   "execution_count": 47,
   "metadata": {
    "collapsed": true
   },
   "outputs": [],
   "source": [
    "template = u\"\"\"=={{int:filedesc}}==\n",
    "{{Information\n",
    "|description={{es|1=${description}}}\n",
    "|date=${date}\n",
    "|source=[${url} Diario de Madrid - ${title}]\n",
    "|author=[https://diario.madrid.es/ Diario de Madrid]\n",
    "|permission=\n",
    "|other versions=\n",
    "}}\n",
    "\n",
    "=={{int:license-header}}==\n",
    "{{Diario de Madrid}}\n",
    "\n",
    "[[Category:Files uploaded by User:Discasto]]\n",
    "[[Category:February 2017 in Madrid]]\"\"\""
   ]
  },
  {
   "cell_type": "code",
   "execution_count": 48,
   "metadata": {
    "collapsed": true
   },
   "outputs": [],
   "source": [
    "image_url = \"https://diario.madrid.es/wp-content/uploads/2018/02/Gal_CarmenaConJavierFernandez_3-1282x1000.jpg\"\n",
    "image_title = \"La alcaldesa agradece a Javier Fernández el bronce olímpico\"\n",
    "image_path = image_title + \".jpg\"\n",
    "description = \"Manuela Carmena ha recibido a Javier Fernández, quien ha ofrecido a los madrileños la medalla recientemente ganada en los Juegos de Pyeongchang\"\n",
    "date = '2018-02-20'\n",
    "try: \n",
    "    r = requests.get(image_url)\n",
    "    downloaded_image = Image.open(BytesIO(r.content))\n",
    "    downloaded_image.save(image_path)\n",
    "except Exception as err:\n",
    "    print ('Failed download ({}). Skipping'.format(err))\n",
    "\n",
    "vars = {\n",
    "    \"description\": description,\n",
    "    \"date\": date,\n",
    "    \"url\": image_url,\n",
    "    \"title\": image_title\n",
    "}\n",
    "    \n",
    "t = Template(template)\n",
    "_text = t.render(**vars)\n",
    "\n",
    "bot = UploadRobot([image_path],\n",
    "                    description = _text,\n",
    "                    useFilename = image_path,\n",
    "                    keepFilename = True,\n",
    "                    verifyDescription = False,\n",
    "                    ignoreWarning = True,\n",
    "                    targetSite = commons_site)\n",
    "bot.run()\n",
    "\n",
    "os.remove(image_path)"
   ]
  },
  {
   "cell_type": "code",
   "execution_count": null,
   "metadata": {
    "collapsed": true
   },
   "outputs": [],
   "source": []
  }
 ],
 "metadata": {
  "kernelspec": {
   "display_name": "Python 3",
   "language": "python",
   "name": "python3"
  },
  "language_info": {
   "codemirror_mode": {
    "name": "ipython",
    "version": 3
   },
   "file_extension": ".py",
   "mimetype": "text/x-python",
   "name": "python",
   "nbconvert_exporter": "python",
   "pygments_lexer": "ipython3",
   "version": "3.6.3"
  }
 },
 "nbformat": 4,
 "nbformat_minor": 2
}
