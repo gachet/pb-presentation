{
 "cells": [
  {
   "cell_type": "code",
   "execution_count": 1,
   "metadata": {},
   "outputs": [],
   "source": [
    "#!/usr/bin/python\n",
    "# -*- coding: latin-1 -*-\n",
    "\"\"\"This notebook builds the CSV-like file describing the contributions to WLE in Spain in YEAR\"\"\"\n",
    "\n",
    "import os, sys, inspect\n",
    "\n",
    "try :\n",
    "    import pywikibot as pb\n",
    "    from pywikibot import pagegenerators, textlib\n",
    "    import mwparserfromhell as mwh\n",
    "\n",
    "except :\n",
    "    current_folder = os.path.realpath(os.path.abspath(os.path.split(inspect.getfile(inspect.currentframe()))[0]))\n",
    "    folder_parts = current_folder.split(os.sep)\n",
    "    pywikibot_folder = os.sep.join(folder_parts[0:-1])\n",
    "\n",
    "    if current_folder not in sys.path:\n",
    "        sys.path.insert(0, current_folder)\n",
    "    if pywikibot_folder not in sys.path:\n",
    "        sys.path.insert(0, pywikibot_folder)\n",
    "\n",
    "    import pywikibot as pb\n",
    "    from pywikibot import pagegenerators, textlib\n",
    "    import mwparserfromhell as mwh\n",
    "\n",
    "from io import StringIO\n",
    "import pandas as pd\n",
    "import numpy as np\n",
    "import re\n",
    "\n",
    "from datetime import datetime, timedelta"
   ]
  },
  {
   "cell_type": "code",
   "execution_count": 2,
   "metadata": {},
   "outputs": [],
   "source": [
    "YEAR                = 2017\n",
    "TAG                 = 'WLE'\n",
    "TAG_EXT             = 'Wiki Loves Earth'\n",
    "TEMPLATE            = 'lic'\n",
    "\n",
    "BASE_NAME           = \"Commons:Wiki Loves in Spain/{1}/{0}\".format(YEAR, TAG_EXT)\n",
    "LOG_PAGE            = BASE_NAME + u\"/Log\"\n",
    "\n",
    "WLE_CATEGORY          = \"Category:Images from {1} {0} in Spain\".format(YEAR, TAG_EXT)\n",
    "WLE_FINALIST_CATEGORY = \"Category:Evaluation of images from {1} {0} in Spain - Final\".format(YEAR, TAG_EXT)\n",
    "\n",
    "commons_site = pb.Site(\"commons\", \"commons\")"
   ]
  },
  {
   "cell_type": "code",
   "execution_count": 3,
   "metadata": {},
   "outputs": [
    {
     "data": {
      "text/plain": [
       "2500"
      ]
     },
     "execution_count": 3,
     "metadata": {},
     "output_type": "execute_result"
    }
   ],
   "source": [
    "cat_wle = pb.Category(commons_site, WLE_CATEGORY)\n",
    "gen_wle = pagegenerators.CategorizedPageGenerator(cat_wle)\n",
    "\n",
    "images_wle = [page.title(withNamespace=False) for page in gen_wle if page.is_filepage()]\n",
    "len(images_wle)"
   ]
  },
  {
   "cell_type": "code",
   "execution_count": 4,
   "metadata": {},
   "outputs": [
    {
     "name": "stderr",
     "output_type": "stream",
     "text": [
      "Retrieving --> 50 image descriptions downloaded\n",
      "Retrieving --> 100 image descriptions downloaded\n",
      "Retrieving --> 150 image descriptions downloaded\n",
      "Retrieving --> 200 image descriptions downloaded\n"
     ]
    },
    {
     "name": "stdout",
     "output_type": "stream",
     "text": [
      "Image with wrong date (Burgui.jpg)\n"
     ]
    },
    {
     "name": "stderr",
     "output_type": "stream",
     "text": [
      "Retrieving --> 250 image descriptions downloaded\n",
      "Retrieving --> 300 image descriptions downloaded\n",
      "Retrieving --> 350 image descriptions downloaded\n",
      "Retrieving --> 400 image descriptions downloaded\n"
     ]
    },
    {
     "name": "stdout",
     "output_type": "stream",
     "text": [
      "Image with no date (Caserios al amanecer en las faldas de Peñas de Aia.jpg)\n"
     ]
    },
    {
     "name": "stderr",
     "output_type": "stream",
     "text": [
      "Retrieving --> 450 image descriptions downloaded\n",
      "Retrieving --> 500 image descriptions downloaded\n"
     ]
    },
    {
     "name": "stdout",
     "output_type": "stream",
     "text": [
      "Image with wrong date (Cola del embalse de Picadas 001.jpg)\n",
      "Image with wrong date (Cola del embalse de Picadas 002.jpg)\n"
     ]
    },
    {
     "name": "stderr",
     "output_type": "stream",
     "text": [
      "Retrieving --> 550 image descriptions downloaded\n",
      "Retrieving --> 600 image descriptions downloaded\n",
      "Retrieving --> 650 image descriptions downloaded\n",
      "Retrieving --> 700 image descriptions downloaded\n",
      "Retrieving --> 750 image descriptions downloaded\n",
      "Retrieving --> 800 image descriptions downloaded\n",
      "Retrieving --> 850 image descriptions downloaded\n",
      "Retrieving --> 900 image descriptions downloaded\n"
     ]
    },
    {
     "name": "stdout",
     "output_type": "stream",
     "text": [
      "Image with wrong date (Faro de Cabo Vilán 3n 1996 - Camariñas.jpg)\n",
      "Image with wrong date (Faro de Cabo Vilán en 1996 - Camariñas.jpg)\n"
     ]
    },
    {
     "name": "stderr",
     "output_type": "stream",
     "text": [
      "Retrieving --> 950 image descriptions downloaded\n"
     ]
    },
    {
     "name": "stdout",
     "output_type": "stream",
     "text": [
      "Image with wrong date (Foz de Arbaiun panorama.jpg)\n",
      "Image with wrong date (Foz de Arbaiun rio.jpg)\n"
     ]
    },
    {
     "name": "stderr",
     "output_type": "stream",
     "text": [
      "Retrieving --> 1000 image descriptions downloaded\n"
     ]
    },
    {
     "name": "stdout",
     "output_type": "stream",
     "text": [
      "Image with wrong date (Gaztelugatxe (1).jpg)\n"
     ]
    },
    {
     "name": "stderr",
     "output_type": "stream",
     "text": [
      "Retrieving --> 1050 image descriptions downloaded\n",
      "Retrieving --> 1100 image descriptions downloaded\n",
      "Retrieving --> 1150 image descriptions downloaded\n"
     ]
    },
    {
     "name": "stdout",
     "output_type": "stream",
     "text": [
      "Image with wrong date (Ladera Irumugarrieta Malloak de Aralar.jpg)\n"
     ]
    },
    {
     "name": "stderr",
     "output_type": "stream",
     "text": [
      "Retrieving --> 1200 image descriptions downloaded\n"
     ]
    },
    {
     "name": "stdout",
     "output_type": "stream",
     "text": [
      "Image with wrong date (Lagunas de Laguardia 01.jpg)\n",
      "Image with wrong date (Lagunas de Laguardia 02.jpg)\n",
      "Image with wrong date (Lagunas de Laguardia 03.jpg)\n",
      "Image with wrong date (Larra Pic Anie.jpg)\n"
     ]
    },
    {
     "name": "stderr",
     "output_type": "stream",
     "text": [
      "Retrieving --> 1250 image descriptions downloaded\n",
      "Retrieving --> 1300 image descriptions downloaded\n",
      "Retrieving --> 1350 image descriptions downloaded\n",
      "Retrieving --> 1400 image descriptions downloaded\n",
      "Retrieving --> 1450 image descriptions downloaded\n",
      "Retrieving --> 1500 image descriptions downloaded\n",
      "Retrieving --> 1550 image descriptions downloaded\n",
      "Retrieving --> 1600 image descriptions downloaded\n",
      "Retrieving --> 1650 image descriptions downloaded\n",
      "WARNING: Http response status 503\n",
      "WARNING: Non-JSON response received from server commons:commons; the server may be down.\n",
      "Set iilimit = ['250']\n",
      "WARNING: Waiting 5 seconds before retrying.\n",
      "Retrieving --> 1700 image descriptions downloaded\n"
     ]
    },
    {
     "name": "stdout",
     "output_type": "stream",
     "text": [
      "Image with no date (Pedret.jpg)\n"
     ]
    },
    {
     "name": "stderr",
     "output_type": "stream",
     "text": [
      "Retrieving --> 1750 image descriptions downloaded\n",
      "Retrieving --> 1800 image descriptions downloaded\n"
     ]
    },
    {
     "name": "stdout",
     "output_type": "stream",
     "text": [
      "Image with wrong date (Prado junto a la Garganta Torinas y la CM-5006.jpg)\n",
      "Image with wrong date (Puente de San Juan 001.jpg)\n",
      "Image with wrong date (Puente de San Juan 002.jpg)\n",
      "Image with wrong date (Puente de San Juan 003.jpg)\n",
      "Image with wrong date (Puente de San Juan 004.jpg)\n",
      "Image with wrong date (Puente de San Juan 005.jpg)\n",
      "Image with wrong date (Puente viejo de Lanzahíta 001.JPG)\n",
      "Image with wrong date (Puente viejo de Lanzahíta 002.JPG)\n",
      "Image with wrong date (Puente viejo de Lanzahíta 003.JPG)\n",
      "Image with wrong date (Puente viejo de Lanzahíta 004.JPG)\n",
      "Image with wrong date (Puente viejo de Lanzahíta 005.JPG)\n",
      "Image with wrong date (Puente viejo de Lanzahíta 006.JPG)\n",
      "Image with wrong date (Puente viejo de Lanzahíta 007.JPG)\n"
     ]
    },
    {
     "name": "stderr",
     "output_type": "stream",
     "text": [
      "Retrieving --> 1850 image descriptions downloaded\n",
      "Retrieving --> 1900 image descriptions downloaded\n",
      "Retrieving --> 1950 image descriptions downloaded\n"
     ]
    },
    {
     "name": "stdout",
     "output_type": "stream",
     "text": [
      "Image with wrong date (Roncesvalles 01.jpg)\n",
      "Image with wrong date (Roncesvalles 02.jpg)\n"
     ]
    },
    {
     "name": "stderr",
     "output_type": "stream",
     "text": [
      "Retrieving --> 2000 image descriptions downloaded\n"
     ]
    },
    {
     "name": "stdout",
     "output_type": "stream",
     "text": [
      "Image with wrong date (Río Tiétar 005.jpg)\n",
      "Image with wrong date (Río Tiétar 006.jpg)\n",
      "Image with wrong date (Río Tiétar 007.jpg)\n",
      "Image with wrong date (Río Tiétar 008.jpg)\n",
      "Image with wrong date (Río Tiétar 009.jpg)\n"
     ]
    },
    {
     "name": "stderr",
     "output_type": "stream",
     "text": [
      "Retrieving --> 2050 image descriptions downloaded\n",
      "Retrieving --> 2100 image descriptions downloaded\n"
     ]
    },
    {
     "name": "stdout",
     "output_type": "stream",
     "text": [
      "Image with wrong date (San-Miguel-de-Aralar.jpg)\n"
     ]
    },
    {
     "name": "stderr",
     "output_type": "stream",
     "text": [
      "Retrieving --> 2150 image descriptions downloaded\n"
     ]
    },
    {
     "name": "stdout",
     "output_type": "stream",
     "text": [
      "Image with wrong date (Sierra Cantabria 01.jpg)\n"
     ]
    },
    {
     "name": "stderr",
     "output_type": "stream",
     "text": [
      "Retrieving --> 2200 image descriptions downloaded\n"
     ]
    },
    {
     "name": "stdout",
     "output_type": "stream",
     "text": [
      "Image with wrong date (Sierra Cantabria carboneras.jpg)\n",
      "Image with wrong date (Sierra Cantabria Davalillo.jpg)\n",
      "Image with wrong date (Sierra Cantabria octubre.jpg)\n",
      "Image with wrong date (Sierra Cantabria Paso del Toro.jpg)\n",
      "Image with wrong date (Sierra Entzia 01.jpg)\n",
      "Image with wrong date (Sierra Entzia 02.jpg)\n"
     ]
    },
    {
     "name": "stderr",
     "output_type": "stream",
     "text": [
      "Retrieving --> 2250 image descriptions downloaded\n"
     ]
    },
    {
     "name": "stdout",
     "output_type": "stream",
     "text": [
      "Image with wrong date (Tejeda9.jpg)\n"
     ]
    },
    {
     "name": "stderr",
     "output_type": "stream",
     "text": [
      "Retrieving --> 2300 image descriptions downloaded\n",
      "Retrieving --> 2350 image descriptions downloaded\n"
     ]
    },
    {
     "name": "stdout",
     "output_type": "stream",
     "text": [
      "Image with wrong date (Urbasa 01.jpg)\n",
      "Image with wrong date (Urbasa 02.jpg)\n"
     ]
    },
    {
     "name": "stderr",
     "output_type": "stream",
     "text": [
      "Retrieving --> 2400 image descriptions downloaded\n",
      "Retrieving --> 2450 image descriptions downloaded\n"
     ]
    }
   ],
   "source": [
    "images_df = pd.DataFrame(\n",
    "    columns=['image_title', 'lic_id', 'uploader', 'uploader_registration', \n",
    "             'timestamp', 'date', 'size', 'height', 'width', 'qi', 'finalist'])\n",
    "\n",
    "uploaders = {}\n",
    "\n",
    "for image_counter, image in enumerate(images_wle):\n",
    "    if (image_counter != 0) and (image_counter % 50 == 0) :\n",
    "        pb.output ('Retrieving --> %d image descriptions downloaded' %(image_counter))\n",
    "    image_row = {'image_title': None, \n",
    "                 'lic_id': '', \n",
    "                 'uploader': None,\n",
    "                 'uploader_registration': None,\n",
    "                 'timestamp': None,\n",
    "                 'date': None,\n",
    "                 'size': 0,\n",
    "                 'height': 0,\n",
    "                 'width': 0,\n",
    "                 'qi': None,\n",
    "                 'finalist': None}\n",
    "\n",
    "    page = pb.FilePage(commons_site, image)\n",
    "    image_row[\"image_title\"] = page.title(withNamespace=False)\n",
    "    \n",
    "    fileinfo = page.latest_file_info\n",
    "    image_row[\"size\"] = fileinfo['size']\n",
    "    image_row[\"height\"] = fileinfo['height']\n",
    "    image_row[\"width\"] = fileinfo['width']\n",
    "    \n",
    "    text = page.text\n",
    "    wikicode = mwh.parse(text)\n",
    "    templates = wikicode.filter_templates()\n",
    "\n",
    "    info_templates = [template for template in wikicode.filter_templates() \n",
    "                      if template.name.lower().strip() == \"information\"]\n",
    "    \n",
    "    # code management\n",
    "    wle_templates = [template for template in wikicode.filter_templates() \n",
    "                    if template.name.lower().strip() == TEMPLATE]\n",
    "    if len(wle_templates) > 0:\n",
    "        image_row[\"lic_id\"] = wle_templates[0].get(1).value.strip()\n",
    "    \n",
    "    # date management\n",
    "    if info_templates[0].has(\"date\"):\n",
    "        try :\n",
    "            datetime_object = datetime.strptime(info_templates[0].get(\"date\").value.strip().split(' ')[0], '%Y-%m-%d')\n",
    "            image_row[\"date\"] = info_templates[0].get(\"date\").value.strip().split(' ')[0]\n",
    "        except :\n",
    "            print (\"Image with wrong date ({0})\".format(image_row[\"image_title\"]))\n",
    "            pass\n",
    "    elif info_templates[0].has(\"Date\"):\n",
    "        try :\n",
    "            datetime_object = datetime.strptime(info_templates[0].get(\"Date\").value.strip().split(' ')[0], '%Y-%m-%d')\n",
    "            image_row[\"date\"] = info_templates[0].get(\"Date\").value.strip().split(' ')[0]\n",
    "        except :\n",
    "            print (\"Image with wrong date ({0})\".format(image_row[\"image_title\"]))\n",
    "            pass\n",
    "    else :\n",
    "        print (\"Image with no date ({0})\".format(image_row[\"image_title\"]))\n",
    "\n",
    "    # uploader management\n",
    "    creation = page.oldest_revision\n",
    "    image_row[\"uploader\"] = creation[\"user\"]\n",
    "    \n",
    "    # uploader registration management\n",
    "    if image_row[\"uploader\"] not in uploaders :\n",
    "        try:\n",
    "            # Too old users do not have a user registration time\n",
    "            user_registration = pb.User(commons_site, title=creation[\"user\"]).registration()\n",
    "            image_row[\"uploader_registration\"] = user_registration.strftime(\"%Y-%m-%d\")\n",
    "        except :\n",
    "            image_row[\"uploader_registration\"] = '2006-01-01'\n",
    "        uploaders[image_row[\"uploader\"]] = image_row[\"uploader_registration\"]\n",
    "    else :\n",
    "        image_row[\"uploader_registration\"] = uploaders[image_row[\"uploader\"]]\n",
    "        \n",
    "    # upload time management\n",
    "    creation_time = creation.timestamp + timedelta(hours=2)\n",
    "    image_row[\"timestamp\"] = creation_time.strftime(\"%Y-%m-%d %H:%M:%S\")\n",
    "    \n",
    "    # quality status management\n",
    "    qi_templates = [template for template in wikicode.filter_templates() \n",
    "                   if template.name.lower().strip() == \"qualityimage\"]    \n",
    "    if len(qi_templates) > 0:\n",
    "        image_row[\"qi\"] = 'qi'\n",
    "        \n",
    "    # finalist status management\n",
    "    cats = [cat.title(withNamespace=True) for cat in textlib.getCategoryLinks(text)]\n",
    "    if WLE_FINALIST_CATEGORY in cats:\n",
    "        image_row[\"finalist\"] = 'finalist'\n",
    "\n",
    "    images_df = images_df.append(image_row, ignore_index=True)"
   ]
  },
  {
   "cell_type": "code",
   "execution_count": 5,
   "metadata": {},
   "outputs": [
    {
     "data": {
      "text/html": [
       "<div>\n",
       "<style scoped>\n",
       "    .dataframe tbody tr th:only-of-type {\n",
       "        vertical-align: middle;\n",
       "    }\n",
       "\n",
       "    .dataframe tbody tr th {\n",
       "        vertical-align: top;\n",
       "    }\n",
       "\n",
       "    .dataframe thead th {\n",
       "        text-align: right;\n",
       "    }\n",
       "</style>\n",
       "<table border=\"1\" class=\"dataframe\">\n",
       "  <thead>\n",
       "    <tr style=\"text-align: right;\">\n",
       "      <th></th>\n",
       "      <th>image_title</th>\n",
       "      <th>lic_id</th>\n",
       "      <th>uploader</th>\n",
       "      <th>uploader_registration</th>\n",
       "      <th>timestamp</th>\n",
       "      <th>date</th>\n",
       "      <th>size</th>\n",
       "      <th>height</th>\n",
       "      <th>width</th>\n",
       "      <th>qi</th>\n",
       "      <th>finalist</th>\n",
       "    </tr>\n",
       "  </thead>\n",
       "  <tbody>\n",
       "    <tr>\n",
       "      <th>count</th>\n",
       "      <td>2500</td>\n",
       "      <td>2500</td>\n",
       "      <td>2500</td>\n",
       "      <td>2500</td>\n",
       "      <td>2500</td>\n",
       "      <td>2454</td>\n",
       "      <td>2500</td>\n",
       "      <td>2500</td>\n",
       "      <td>2500</td>\n",
       "      <td>0.0</td>\n",
       "      <td>137</td>\n",
       "    </tr>\n",
       "    <tr>\n",
       "      <th>unique</th>\n",
       "      <td>2500</td>\n",
       "      <td>311</td>\n",
       "      <td>191</td>\n",
       "      <td>75</td>\n",
       "      <td>1777</td>\n",
       "      <td>562</td>\n",
       "      <td>2500</td>\n",
       "      <td>486</td>\n",
       "      <td>417</td>\n",
       "      <td>0.0</td>\n",
       "      <td>1</td>\n",
       "    </tr>\n",
       "    <tr>\n",
       "      <th>top</th>\n",
       "      <td>Mascletà La Canyada13.jpg</td>\n",
       "      <td></td>\n",
       "      <td>Fedoce1</td>\n",
       "      <td>2017-05-23</td>\n",
       "      <td>2017-05-30 18:36:33</td>\n",
       "      <td>2017-05-27</td>\n",
       "      <td>94207</td>\n",
       "      <td>3456</td>\n",
       "      <td>3648</td>\n",
       "      <td>NaN</td>\n",
       "      <td>finalist</td>\n",
       "    </tr>\n",
       "    <tr>\n",
       "      <th>freq</th>\n",
       "      <td>1</td>\n",
       "      <td>103</td>\n",
       "      <td>192</td>\n",
       "      <td>411</td>\n",
       "      <td>3</td>\n",
       "      <td>91</td>\n",
       "      <td>1</td>\n",
       "      <td>159</td>\n",
       "      <td>171</td>\n",
       "      <td>NaN</td>\n",
       "      <td>137</td>\n",
       "    </tr>\n",
       "  </tbody>\n",
       "</table>\n",
       "</div>"
      ],
      "text/plain": [
       "                      image_title lic_id uploader uploader_registration  \\\n",
       "count                        2500   2500     2500                  2500   \n",
       "unique                       2500    311      191                    75   \n",
       "top     Mascletà La Canyada13.jpg         Fedoce1            2017-05-23   \n",
       "freq                            1    103      192                   411   \n",
       "\n",
       "                  timestamp        date   size  height  width   qi  finalist  \n",
       "count                  2500        2454   2500    2500   2500  0.0       137  \n",
       "unique                 1777         562   2500     486    417  0.0         1  \n",
       "top     2017-05-30 18:36:33  2017-05-27  94207    3456   3648  NaN  finalist  \n",
       "freq                      3          91      1     159    171  NaN       137  "
      ]
     },
     "execution_count": 5,
     "metadata": {},
     "output_type": "execute_result"
    }
   ],
   "source": [
    "images_df.describe(include=\"all\")"
   ]
  },
  {
   "cell_type": "code",
   "execution_count": 6,
   "metadata": {},
   "outputs": [
    {
     "name": "stderr",
     "output_type": "stream",
     "text": [
      "Page [[commons:Commons:Wiki Loves in Spain/Wiki Loves Earth/2017/Log]] saved\n"
     ]
    }
   ],
   "source": [
    "buf = StringIO()\n",
    "images_df.to_csv(buf, index=None, sep=';', encoding='utf-8', header=False)\n",
    "\n",
    "db_page = pb.Page(commons_site, LOG_PAGE)\n",
    "db_page.text = u'<pre>\\n' + buf.getvalue() + u'</pre>'\n",
    "db_page.save(\"{1} {0} in Spain: Contribution log update\".format(YEAR, TAG))"
   ]
  },
  {
   "cell_type": "code",
   "execution_count": null,
   "metadata": {},
   "outputs": [],
   "source": []
  }
 ],
 "metadata": {
  "kernelspec": {
   "display_name": "Python 3",
   "language": "python",
   "name": "python3"
  },
  "language_info": {
   "codemirror_mode": {
    "name": "ipython",
    "version": 3
   },
   "file_extension": ".py",
   "mimetype": "text/x-python",
   "name": "python",
   "nbconvert_exporter": "python",
   "pygments_lexer": "ipython3",
   "version": "3.6.3"
  }
 },
 "nbformat": 4,
 "nbformat_minor": 2
}
