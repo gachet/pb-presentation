{
 "cells": [
  {
   "cell_type": "code",
   "execution_count": null,
   "metadata": {},
   "outputs": [],
   "source": [
    "#!/usr/bin/python\n",
    "# -*- coding: latin-1 -*-\n",
    "\"\"\"This notebook builds the CSV-like Wikimedia page which records the contributions to WLE in Spain in YEAR\"\"\"\n",
    "\n",
    "import os, sys, inspect\n",
    "\n",
    "try :\n",
    "    import pywikibot as pb\n",
    "    from pywikibot import pagegenerators, textlib\n",
    "    import mwparserfromhell as mwh\n",
    "\n",
    "except :\n",
    "    current_folder = os.path.realpath(os.path.abspath(os.path.split(inspect.getfile(inspect.currentframe()))[0]))\n",
    "    folder_parts = current_folder.split(os.sep)\n",
    "    pywikibot_folder = os.sep.join(folder_parts[0:-1])\n",
    "\n",
    "    if current_folder not in sys.path:\n",
    "        sys.path.insert(0, current_folder)\n",
    "    if pywikibot_folder not in sys.path:\n",
    "        sys.path.insert(0, pywikibot_folder)\n",
    "\n",
    "    import pywikibot as pb\n",
    "    from pywikibot import pagegenerators, textlib\n",
    "    import mwparserfromhell as mwh\n",
    "\n",
    "from io import StringIO\n",
    "import pandas as pd\n",
    "import numpy as np\n",
    "import re\n",
    "\n",
    "from datetime import datetime, timedelta"
   ]
  },
  {
   "cell_type": "code",
   "execution_count": null,
   "metadata": {},
   "outputs": [],
   "source": [
    "YEAR                = 2017\n",
    "TAG                 = 'WLE'\n",
    "TAG_EXT             = 'Wiki Loves Earth'\n",
    "TEMPLATE            = 'lic'\n",
    "\n",
    "BASE_NAME           = \"Commons:Wiki Loves in Spain/{1}/{0}\".format(YEAR, TAG_EXT)\n",
    "LOG_PAGE            = BASE_NAME + u\"/Log\"\n",
    "\n",
    "WLE_CATEGORY          = \"Category:Images from {1} {0} in Spain\".format(YEAR, TAG_EXT)\n",
    "WLE_FINALIST_CATEGORY = \"Category:Evaluation of images from {1} {0} in Spain - Final\".format(YEAR, TAG_EXT)\n",
    "\n",
    "commons_site = pb.Site(\"commons\", \"commons\")"
   ]
  },
  {
   "cell_type": "markdown",
   "metadata": {},
   "source": [
    "### Image selection"
   ]
  },
  {
   "cell_type": "code",
   "execution_count": null,
   "metadata": {},
   "outputs": [],
   "source": [
    "cat_wle = pb.Category(commons_site, WLE_CATEGORY)\n",
    "gen_wle = pagegenerators.CategorizedPageGenerator(cat_wle)\n",
    "\n",
    "images_wle = [page.title(withNamespace=False) for page in gen_wle if page.is_filepage()]\n",
    "len(images_wle)"
   ]
  },
  {
   "cell_type": "markdown",
   "metadata": {},
   "source": [
    "### Image review and recording"
   ]
  },
  {
   "cell_type": "code",
   "execution_count": null,
   "metadata": {},
   "outputs": [],
   "source": [
    "images_df = pd.DataFrame(\n",
    "    columns=['image_title', 'lic_id', 'uploader', 'uploader_registration', \n",
    "             'timestamp', 'date', 'size', 'height', 'width', 'qi', 'finalist'])\n",
    "\n",
    "uploaders = {}\n",
    "\n",
    "for image_counter, image in enumerate(images_wle):\n",
    "    if (image_counter != 0) and (image_counter % 50 == 0) :\n",
    "        pb.output ('Retrieving --> %d image descriptions downloaded' %(image_counter))\n",
    "    image_row = {'image_title': None, \n",
    "                 'lic_id': '', \n",
    "                 'uploader': None,\n",
    "                 'uploader_registration': None,\n",
    "                 'timestamp': None,\n",
    "                 'date': None,\n",
    "                 'size': 0,\n",
    "                 'height': 0,\n",
    "                 'width': 0,\n",
    "                 'qi': None,\n",
    "                 'finalist': None}\n",
    "\n",
    "    page = pb.FilePage(commons_site, image)\n",
    "    image_row[\"image_title\"] = page.title(withNamespace=False)\n",
    "    \n",
    "    fileinfo = page.latest_file_info\n",
    "    image_row[\"size\"] = fileinfo['size']\n",
    "    image_row[\"height\"] = fileinfo['height']\n",
    "    image_row[\"width\"] = fileinfo['width']\n",
    "    \n",
    "    text = page.text\n",
    "    wikicode = mwh.parse(text)\n",
    "    templates = wikicode.filter_templates()\n",
    "\n",
    "    info_templates = [template for template in wikicode.filter_templates() \n",
    "                      if template.name.lower().strip() == \"information\"]\n",
    "    \n",
    "    # code management\n",
    "    wle_templates = [template for template in wikicode.filter_templates() \n",
    "                    if template.name.lower().strip() == TEMPLATE]\n",
    "    if len(wle_templates) > 0:\n",
    "        image_row[\"lic_id\"] = wle_templates[0].get(1).value.strip()\n",
    "    \n",
    "    # date management\n",
    "    if info_templates[0].has(\"date\"):\n",
    "        try :\n",
    "            datetime_object = datetime.strptime(info_templates[0].get(\"date\").value.strip().split(' ')[0], '%Y-%m-%d')\n",
    "            image_row[\"date\"] = info_templates[0].get(\"date\").value.strip().split(' ')[0]\n",
    "        except :\n",
    "            print (\"Image with wrong date ({0})\".format(image_row[\"image_title\"]))\n",
    "            pass\n",
    "    elif info_templates[0].has(\"Date\"):\n",
    "        try :\n",
    "            datetime_object = datetime.strptime(info_templates[0].get(\"Date\").value.strip().split(' ')[0], '%Y-%m-%d')\n",
    "            image_row[\"date\"] = info_templates[0].get(\"Date\").value.strip().split(' ')[0]\n",
    "        except :\n",
    "            print (\"Image with wrong date ({0})\".format(image_row[\"image_title\"]))\n",
    "            pass\n",
    "    else :\n",
    "        print (\"Image with no date ({0})\".format(image_row[\"image_title\"]))\n",
    "\n",
    "    # uploader management\n",
    "    creation = page.oldest_revision\n",
    "    image_row[\"uploader\"] = creation[\"user\"]\n",
    "    \n",
    "    # uploader registration management\n",
    "    if image_row[\"uploader\"] not in uploaders :\n",
    "        try:\n",
    "            # Too old users do not have a user registration time\n",
    "            user_registration = pb.User(commons_site, title=creation[\"user\"]).registration()\n",
    "            image_row[\"uploader_registration\"] = user_registration.strftime(\"%Y-%m-%d\")\n",
    "        except :\n",
    "            image_row[\"uploader_registration\"] = '2006-01-01'\n",
    "        uploaders[image_row[\"uploader\"]] = image_row[\"uploader_registration\"]\n",
    "    else :\n",
    "        image_row[\"uploader_registration\"] = uploaders[image_row[\"uploader\"]]\n",
    "        \n",
    "    # upload time management\n",
    "    creation_time = creation.timestamp + timedelta(hours=2)\n",
    "    image_row[\"timestamp\"] = creation_time.strftime(\"%Y-%m-%d %H:%M:%S\")\n",
    "    \n",
    "    # quality status management\n",
    "    qi_templates = [template for template in wikicode.filter_templates() \n",
    "                   if template.name.lower().strip() == \"qualityimage\"]    \n",
    "    if len(qi_templates) > 0:\n",
    "        image_row[\"qi\"] = 'qi'\n",
    "        \n",
    "    # finalist status management\n",
    "    cats = [cat.title(withNamespace=True) for cat in textlib.getCategoryLinks(text)]\n",
    "    if WLE_FINALIST_CATEGORY in cats:\n",
    "        image_row[\"finalist\"] = 'finalist'\n",
    "\n",
    "    images_df = images_df.append(image_row, ignore_index=True)"
   ]
  },
  {
   "cell_type": "code",
   "execution_count": null,
   "metadata": {},
   "outputs": [],
   "source": [
    "images_df.describe(include=\"all\")"
   ]
  },
  {
   "cell_type": "markdown",
   "metadata": {},
   "source": [
    "### Log creation"
   ]
  },
  {
   "cell_type": "code",
   "execution_count": null,
   "metadata": {},
   "outputs": [],
   "source": [
    "buf = StringIO()\n",
    "images_df.to_csv(buf, index=None, sep=';', encoding='utf-8', header=False)\n",
    "\n",
    "db_page = pb.Page(commons_site, LOG_PAGE)\n",
    "db_page.text = u'<pre>\\n' + buf.getvalue() + u'</pre>'\n",
    "db_page.save(\"{1} {0} in Spain: Contribution log update\".format(YEAR, TAG))"
   ]
  },
  {
   "cell_type": "code",
   "execution_count": null,
   "metadata": {},
   "outputs": [],
   "source": []
  }
 ],
 "metadata": {
  "kernelspec": {
   "display_name": "Python 3",
   "language": "python",
   "name": "python3"
  },
  "language_info": {
   "codemirror_mode": {
    "name": "ipython",
    "version": 3
   },
   "file_extension": ".py",
   "mimetype": "text/x-python",
   "name": "python",
   "nbconvert_exporter": "python",
   "pygments_lexer": "ipython3",
   "version": "3.6.3"
  }
 },
 "nbformat": 4,
 "nbformat_minor": 2
}
